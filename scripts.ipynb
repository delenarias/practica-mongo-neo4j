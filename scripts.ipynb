{
  "nbformat": 4,
  "nbformat_minor": 0,
  "metadata": {
    "colab": {
      "name": "scripts",
      "provenance": [],
      "collapsed_sections": [],
      "authorship_tag": "ABX9TyNNuk1mzfx6BRjJus4SmrB2",
      "include_colab_link": true
    },
    "kernelspec": {
      "name": "python3",
      "display_name": "Python 3"
    },
    "language_info": {
      "name": "python"
    }
  },
  "cells": [
    {
      "cell_type": "markdown",
      "metadata": {
        "id": "view-in-github",
        "colab_type": "text"
      },
      "source": [
        "<a href=\"https://colab.research.google.com/github/delenarias/practica-mongo-neo4j/blob/main/scripts.ipynb\" target=\"_parent\"><img src=\"https://colab.research.google.com/assets/colab-badge.svg\" alt=\"Open In Colab\"/></a>"
      ]
    },
    {
      "cell_type": "markdown",
      "source": [
        "**Importar base de datos**"
      ],
      "metadata": {
        "id": "qZBgyp_ulOWs"
      }
    },
    {
      "cell_type": "markdown",
      "source": [
        "a-Creación de base de datos **inspection** e importar ***Collection***. El script se ejectuta en consola."
      ],
      "metadata": {
        "id": "z8ybyN__lO6q"
      }
    },
    {
      "cell_type": "code",
      "execution_count": null,
      "metadata": {
        "id": "1IDJ3y3PkSd1"
      },
      "outputs": [],
      "source": [
        "mongoimport --db inspections --collection grupal_city_inspections --type json --file act-grupal-city_inspections.json"
      ]
    },
    {
      "cell_type": "markdown",
      "source": [
        "b-Creación de base de datos **countries** e importar dos ***Collection***. El script se ejecuta en consola."
      ],
      "metadata": {
        "id": "wtvm6jsLqTRb"
      }
    },
    {
      "cell_type": "markdown",
      "source": [
        "**Exportar base de datos**"
      ],
      "metadata": {
        "id": "55GcDDj4qq_8"
      }
    },
    {
      "cell_type": "markdown",
      "source": [
        "a-Exportar base de datos **inspection** en formato json. El script se ejecuta en consola"
      ],
      "metadata": {
        "id": "loyGLWvtqwhC"
      }
    },
    {
      "cell_type": "code",
      "source": [
        "mongoexport --collection inspections --db inspections --out C:\\PROYECTOS\\inspections.json"
      ],
      "metadata": {
        "id": "APp19ZDkq9Pq"
      },
      "execution_count": null,
      "outputs": []
    },
    {
      "cell_type": "markdown",
      "source": [
        "**Restaurar base de datos**"
      ],
      "metadata": {
        "id": "BM7ASFAarN8C"
      }
    },
    {
      "cell_type": "markdown",
      "source": [
        "Para estos efectos colocar en la carpeta dump los archivos a restaurar y desde consola aplicar el siguiente script."
      ],
      "metadata": {
        "id": "RB7dJy14sDn1"
      }
    },
    {
      "cell_type": "code",
      "source": [
        "mongorestore dump/"
      ],
      "metadata": {
        "id": "BXq9wTZ2sP7z"
      },
      "execution_count": null,
      "outputs": []
    },
    {
      "cell_type": "markdown",
      "source": [
        "**Caso de uso: restricción de locales y terrazas en Madrid por Covid-19**"
      ],
      "metadata": {
        "id": "9_40SgTCoryf"
      }
    },
    {
      "cell_type": "markdown",
      "source": [
        "h. Alternativa para insert masivo"
      ],
      "metadata": {
        "id": "EeiztEe3BZ_n"
      }
    },
    {
      "cell_type": "code",
      "source": [
        "db.locales.insert(datos_insertar)"
      ],
      "metadata": {
        "id": "c27NfsNFBjEN"
      },
      "execution_count": null,
      "outputs": []
    },
    {
      "cell_type": "markdown",
      "source": [
        "6.2 **Actualizaciones**"
      ],
      "metadata": {
        "id": "Sxn2PaKX24WD"
      }
    },
    {
      "cell_type": "markdown",
      "source": [
        "a-Los locales del barrio Guindalera de Salamanca, por motivos de la desescalada no podrán abrir y tendrán que permanecer cerrados. Cambiad la situación del local a cerrado y utilizad el ID correspondiente"
      ],
      "metadata": {
        "id": "TGz4lP0J28Yw"
      }
    },
    {
      "cell_type": "code",
      "source": [
        "db.locales.update({desc_barrio_local:'GUINDALERA', desc_distrito_local:'SALAMANCA'},{$set:{desc_situacion_local:'Cerrado'}},{multi:true})\n",
        "\n"
      ],
      "metadata": {
        "id": "_BFtVT788BAD"
      },
      "execution_count": null,
      "outputs": []
    },
    {
      "cell_type": "markdown",
      "source": [
        "•\tA estos mismos locales, cambiad la situación de la terraza a cerrada siguiendo las mismas premisas anteriores."
      ],
      "metadata": {
        "id": "2zM_sEMF8CQi"
      }
    },
    {
      "cell_type": "code",
      "source": [
        "db.locales.update({desc_barrio_local:'GUINDALERA', desc_distrito_local:'SALAMANCA'},{$set:{desc_situacion_terraza:'Cerrada',id_situacion_terraza:3}},{multi:true})\n"
      ],
      "metadata": {
        "id": "frNl6jDu8L-6"
      },
      "execution_count": null,
      "outputs": []
    },
    {
      "cell_type": "markdown",
      "source": [
        "b-A todas las terrazas que se ubiquen en la acera, añadid un campo llamado inspeccionar y estableced el siguiente valor:\n",
        "•\tSi dispone de más de 10 mesas, true.\n",
        "•\tSi dispone de menos de 10 mesas, false.\n"
      ],
      "metadata": {
        "id": "uDk1quX3_-P0"
      }
    },
    {
      "cell_type": "code",
      "source": [
        "db.locales.updateMany(\n",
        "   {desc_ubicacion_terraza:'Acera'},\n",
        "   [\n",
        "     { $set: { inspeccionar: { $switch: {\n",
        "                           branches: [\n",
        "                               { case: { $gte: [ \"$mesas_es\", 10 ] }, then: true },\n",
        "                               { case: { $lt: [ \"$mesas_es\", 10 ] }, then: false} \n",
        "                           ],\n",
        "                           default: \"\"\n",
        "     } } } }\n",
        "   ]\n",
        ")"
      ],
      "metadata": {
        "id": "cMjunCJCABSh"
      },
      "execution_count": null,
      "outputs": []
    },
    {
      "cell_type": "markdown",
      "source": [
        "c-A las terrazas que se deban inspeccionar, asignad 2 mesas auxiliares y 8 sillas disponibles. "
      ],
      "metadata": {
        "id": "EC8jEmWUGrH1"
      }
    },
    {
      "cell_type": "code",
      "source": [
        "db.locales.update({inspeccionar:true},{$set:{mesas_aux_es:2,sillas_ra:8}},{multi:true})\n"
      ],
      "metadata": {
        "id": "e9W_4MV-HpxL"
      },
      "execution_count": null,
      "outputs": []
    },
    {
      "cell_type": "markdown",
      "source": [
        "d- A las terrazas que no deban ser inspeccionadas, añadid el campo estado con el valor:\n",
        "•\t1 si el número de sillas es menor que 10.\n",
        "•\t2 si el número de sillas está entre 10 y 20.\n",
        "•\t3 si cuenta con más de 20 sillas.\n"
      ],
      "metadata": {
        "id": "wrhOVanHHqo7"
      }
    },
    {
      "cell_type": "code",
      "source": [
        "db.locales.updateMany(\n",
        "   {inspeccionar:false},\n",
        "   [\n",
        "     { $set: { estado: { $switch: {\n",
        "                           branches: [\n",
        "                               { case: { $lt: [ \"$sillas_es\", 10 ] }, then: 1 },\n",
        "                               { case: { $and :[{$gte: [ \"$sillas_es\", 10 ]},{ $lt: [ \"$sillas_es\", 20 ]}]}, then: 2},\n",
        "                               { case: { $gte: [ \"$sillas_es\", 20 ] }, then: 3}\n",
        "                           ],\n",
        "                           default: \"\"\n",
        "     } } } }\n",
        "   ]\n",
        ")"
      ],
      "metadata": {
        "id": "swakbR4jRMqt"
      },
      "execution_count": null,
      "outputs": []
    },
    {
      "cell_type": "markdown",
      "source": [
        "e-De lunes a jueves, ningún local podrá cerrar más allá de las 00:00:00, actualizad el horario de cierre a esta nueva hora límite. "
      ],
      "metadata": {
        "id": "kS_NqWdaRO6q"
      }
    },
    {
      "cell_type": "code",
      "source": [
        "db.locales.update({hora_fin_LJ_es:{$gt:'0:00:00'}},{$set:{hora_fin_LJ_es:'0:00:00'}},{multi:true})\n"
      ],
      "metadata": {
        "id": "io38f01IRWG1"
      },
      "execution_count": null,
      "outputs": []
    },
    {
      "cell_type": "markdown",
      "source": [
        "f-De viernes a sábado, los locales que cierren a las 2:30:00 ahora tendrán que hacerlo a las 2:00:00"
      ],
      "metadata": {
        "id": "J361RLFOT8Cz"
      }
    },
    {
      "cell_type": "code",
      "source": [
        "db.locales.update({hora_fin_VS_es:{$eq:'2:30:00'}},{$set:{hora_fin_VS_es:'2:00:00'}},{multi:true})\n"
      ],
      "metadata": {
        "id": "ODWumMMKUCJJ"
      },
      "execution_count": null,
      "outputs": []
    },
    {
      "cell_type": "markdown",
      "source": [
        "g-A todos los locales que estén sobre la calle Alcalá en Madrid se les debe inspeccionar. "
      ],
      "metadata": {
        "id": "D9QNAyevU-0p"
      }
    },
    {
      "cell_type": "code",
      "source": [
        "db.locales.update({DESC_CLASE:'CALLE',DESC_NOMBRE:'ALCALA'},{$set:{inspeccionar:true}},{multi:true})\n"
      ],
      "metadata": {
        "id": "DCzYzqmAVBOR"
      },
      "execution_count": null,
      "outputs": []
    },
    {
      "cell_type": "markdown",
      "source": [
        "h-A todos los locales con terrazas abiertas, añadid un campo revision cuyo valor sea un documento con la siguiente información: {prox_inspeccion: 10, puntuacion: 80, comentario: “separar las mesas”}"
      ],
      "metadata": {
        "id": "8raymh8kdKEN"
      }
    },
    {
      "cell_type": "code",
      "source": [
        "db.locales.update({desc_situacion_terraza:'Abierta'},{$set:{revision:{prox_inspeccion: 10, puntuacion: 80, comentario: 'separar las mesas'}}},{multi:true})\n"
      ],
      "metadata": {
        "id": "SkvGa1A9dYsa"
      },
      "execution_count": null,
      "outputs": []
    },
    {
      "cell_type": "markdown",
      "source": [
        "i-Cread una nueva colección llamada zona1 con todos los locales que pertenezcan al distrito de Villaverde."
      ],
      "metadata": {
        "id": "O_LVroiTedfh"
      }
    },
    {
      "cell_type": "code",
      "source": [
        "cur = db.locales.find({desc_distrito_local:'VILLAVERDE'});\n",
        "while (cur.hasNext()) { db.zona_1.insert(cur.next()) }\n",
        "\n",
        "db.zona_1.find()"
      ],
      "metadata": {
        "id": "vYL6Ip2XfKnY"
      },
      "execution_count": null,
      "outputs": []
    },
    {
      "cell_type": "markdown",
      "source": [
        "j-Cread una nueva colección llamada zona2 con todos los locales que pertenezcan al distrito de Salamanca y barrio Castellana."
      ],
      "metadata": {
        "id": "iUlqp1SFgke8"
      }
    },
    {
      "cell_type": "code",
      "source": [
        "cur = db.locales.find({desc_distrito_local:'SALAMANCA', desc_barrio_local:'CASTELLANA'});\n",
        "while (cur.hasNext()) { db.zona_2.insert(cur.next()) }\n",
        "\n",
        "db.zona_2.find()"
      ],
      "metadata": {
        "id": "Ris3UtUmguSb"
      },
      "execution_count": null,
      "outputs": []
    }
  ]
}