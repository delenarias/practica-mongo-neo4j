{
  "nbformat": 4,
  "nbformat_minor": 0,
  "metadata": {
    "colab": {
      "name": "scripts",
      "provenance": [],
      "collapsed_sections": [],
      "authorship_tag": "ABX9TyNAblI+BhGOP2zG+tqrbPqH",
      "include_colab_link": true
    },
    "kernelspec": {
      "name": "python3",
      "display_name": "Python 3"
    },
    "language_info": {
      "name": "python"
    }
  },
  "cells": [
    {
      "cell_type": "markdown",
      "metadata": {
        "id": "view-in-github",
        "colab_type": "text"
      },
      "source": [
        "<a href=\"https://colab.research.google.com/github/delenarias/practica-mongo-neo4j/blob/main/scripts.ipynb\" target=\"_parent\"><img src=\"https://colab.research.google.com/assets/colab-badge.svg\" alt=\"Open In Colab\"/></a>"
      ]
    },
    {
      "cell_type": "markdown",
      "source": [
        "**Importar base de datos**"
      ],
      "metadata": {
        "id": "qZBgyp_ulOWs"
      }
    },
    {
      "cell_type": "markdown",
      "source": [
        "a-Creación de base de datos **inspection** e importar ***Collection***. El script se ejectuta en consola."
      ],
      "metadata": {
        "id": "z8ybyN__lO6q"
      }
    },
    {
      "cell_type": "code",
      "execution_count": null,
      "metadata": {
        "id": "1IDJ3y3PkSd1"
      },
      "outputs": [],
      "source": [
        "mongoimport --db inspections --collection grupal_city_inspections --type json --file act-grupal-city_inspections.json"
      ]
    },
    {
      "cell_type": "markdown",
      "source": [
        "b-Creación de base de datos **countries** e importar dos ***Collection***. El script se ejecuta en consola."
      ],
      "metadata": {
        "id": "wtvm6jsLqTRb"
      }
    },
    {
      "cell_type": "markdown",
      "source": [
        "**Exportar base de datos**"
      ],
      "metadata": {
        "id": "55GcDDj4qq_8"
      }
    },
    {
      "cell_type": "markdown",
      "source": [
        "a-Exportar base de datos **inspection** en formato json. El script se ejecuta en consola"
      ],
      "metadata": {
        "id": "loyGLWvtqwhC"
      }
    },
    {
      "cell_type": "code",
      "source": [
        "mongoexport --collection inspections --db inspections --out C:\\PROYECTOS\\inspections.json"
      ],
      "metadata": {
        "id": "APp19ZDkq9Pq"
      },
      "execution_count": null,
      "outputs": []
    },
    {
      "cell_type": "markdown",
      "source": [
        "**Restaurar base de datos**"
      ],
      "metadata": {
        "id": "BM7ASFAarN8C"
      }
    },
    {
      "cell_type": "markdown",
      "source": [
        "Para estos efectos colocar en la carpeta dump los archivos a restaurar y desde consola aplicar el siguiente script."
      ],
      "metadata": {
        "id": "RB7dJy14sDn1"
      }
    },
    {
      "cell_type": "code",
      "source": [
        "mongorestore dump/"
      ],
      "metadata": {
        "id": "BXq9wTZ2sP7z"
      },
      "execution_count": null,
      "outputs": []
    }
  ]
}