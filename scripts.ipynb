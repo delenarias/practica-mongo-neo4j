{
  "nbformat": 4,
  "nbformat_minor": 0,
  "metadata": {
    "colab": {
      "name": "scripts",
      "provenance": [],
      "authorship_tag": "ABX9TyME1PJhEOy3YiNWG+9L8DAA",
      "include_colab_link": true
    },
    "kernelspec": {
      "name": "python3",
      "display_name": "Python 3"
    },
    "language_info": {
      "name": "python"
    }
  },
  "cells": [
    {
      "cell_type": "markdown",
      "metadata": {
        "id": "view-in-github",
        "colab_type": "text"
      },
      "source": [
        "<a href=\"https://colab.research.google.com/github/delenarias/practica-mongo-neo4j/blob/main/scripts.ipynb\" target=\"_parent\"><img src=\"https://colab.research.google.com/assets/colab-badge.svg\" alt=\"Open In Colab\"/></a>"
      ]
    },
    {
      "cell_type": "markdown",
      "source": [
        "Creación de base e importación de ***Collection*** en la base. El script se ejectuta en consola."
      ],
      "metadata": {
        "id": "z8ybyN__lO6q"
      }
    },
    {
      "cell_type": "code",
      "execution_count": null,
      "metadata": {
        "id": "1IDJ3y3PkSd1"
      },
      "outputs": [],
      "source": [
        "mongoimport --db inspections --collection grupal_city_inspections --type json --file act-grupal-city_inspections.json"
      ]
    },
    {
      "cell_type": "markdown",
      "source": [
        ""
      ],
      "metadata": {
        "id": "qZBgyp_ulOWs"
      }
    }
  ]
}